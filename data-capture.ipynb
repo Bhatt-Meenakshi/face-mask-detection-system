{
 "cells": [
  {
   "cell_type": "code",
   "execution_count": 1,
   "id": "4d2f402e",
   "metadata": {},
   "outputs": [],
   "source": [
    "import cv2"
   ]
  },
  {
   "cell_type": "code",
   "execution_count": 2,
   "id": "47f39096",
   "metadata": {},
   "outputs": [],
   "source": [
    "import matplotlib.pyplot as plt"
   ]
  },
  {
   "cell_type": "code",
   "execution_count": 4,
   "id": "bea14b01",
   "metadata": {},
   "outputs": [],
   "source": [
    "haar_data=cv2.CascadeClassifier('data.xml')   # pre-trained Haar cascade classifier"
   ]
  },
  {
   "cell_type": "code",
   "execution_count": null,
   "id": "6cb6cfe7",
   "metadata": {},
   "outputs": [],
   "source": [
    "capture=cv2.VideoCapture(0)\n",
    "data=[]\n",
    "while True:\n",
    "    flag,img=capture.read()\n",
    "    if flag:\n",
    "        faces=haar_data.detectMultiScale(img)\n",
    "        for x,y,w,h in faces:\n",
    "            cv2.rectangle(img,(x,y),(x+w,y+h),(255,0,255),4)\n",
    "            face=img[y:y+h,x:x+w,:]\n",
    "            face=cv2.resize(face,(50,50))\n",
    "            print(len(data))\n",
    "            if len(data)<400:\n",
    "                data.append(face)\n",
    "        cv2.imshow('myin',img)\n",
    "        if cv2.waitKey(2)==27 or len(data)>=200:\n",
    "            break\n",
    "capture.release()\n",
    "cv2.destroyAllWindows()\n",
    "        "
   ]
  },
  {
   "cell_type": "code",
   "execution_count": 18,
   "id": "924c8d8c",
   "metadata": {},
   "outputs": [],
   "source": [
    "import numpy as np"
   ]
  },
  {
   "cell_type": "code",
   "execution_count": 19,
   "id": "ad830c3b",
   "metadata": {},
   "outputs": [],
   "source": [
    "np.save('with_mask.npy',data)   #save images with mask on a file"
   ]
  },
  {
   "cell_type": "code",
   "execution_count": null,
   "id": "2681dfa6",
   "metadata": {},
   "outputs": [],
   "source": [
    "capture=cv2.VideoCapture(0)\n",
    "data1=[]\n",
    "while True:\n",
    "    flag,img=capture.read()\n",
    "    if flag:\n",
    "        faces=haar_data.detectMultiScale(img)\n",
    "        for x,y,w,h in faces:\n",
    "            cv2.rectangle(img,(x,y),(x+w,y+h),(255,0,255),4)\n",
    "            face=img[y:y+h,x:x+w,:]\n",
    "            face=cv2.resize(face,(50,50))\n",
    "            print(len(data1))\n",
    "            if len(data1)<400:\n",
    "                data1.append(face)\n",
    "        cv2.imshow('myin',img)\n",
    "        if cv2.waitKey(2)==27 or len(data1)>=200:\n",
    "            break\n",
    "capture.release()\n",
    "cv2.destroyAllWindows()"
   ]
  },
  {
   "cell_type": "code",
   "execution_count": 50,
   "id": "a6ad02e9",
   "metadata": {},
   "outputs": [],
   "source": [
    "np.save('without_mask.npy',data1)       #save images with mask on a file"
   ]
  }
 ],
 "metadata": {
  "kernelspec": {
   "display_name": "Python 3 (ipykernel)",
   "language": "python",
   "name": "python3"
  },
  "language_info": {
   "codemirror_mode": {
    "name": "ipython",
    "version": 3
   },
   "file_extension": ".py",
   "mimetype": "text/x-python",
   "name": "python",
   "nbconvert_exporter": "python",
   "pygments_lexer": "ipython3",
   "version": "3.10.9"
  }
 },
 "nbformat": 4,
 "nbformat_minor": 5
}
